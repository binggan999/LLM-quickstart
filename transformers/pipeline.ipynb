{
 "cells": [
  {
   "cell_type": "markdown",
   "id": "aec029fe-8677-4d6b-b763-c4a06e9507cf",
   "metadata": {},
   "source": [
    "### sentiment-analysis"
   ]
  },
  {
   "cell_type": "code",
   "execution_count": 1,
   "id": "0622075b-cf54-4bf0-bbae-23477f2a8dc6",
   "metadata": {
    "tags": []
   },
   "outputs": [
    {
     "name": "stderr",
     "output_type": "stream",
     "text": [
      "2024-05-11 10:04:11,680 - modelscope - INFO - PyTorch version 2.3.0 Found.\n",
      "2024-05-11 10:04:11,683 - modelscope - INFO - Loading ast index from /root/.cache/modelscope/ast_indexer\n",
      "2024-05-11 10:04:11,718 - modelscope - INFO - Loading done! Current index file version is 1.13.1, with md5 e711c28e239a881b163cc9f629cefe53 and a total number of 972 components indexed\n",
      "2024-05-11 10:04:13,180 - modelscope - INFO - initiate model from models/iic/nlp_structbert_sentiment-classification_chinese-large\n",
      "2024-05-11 10:04:13,181 - modelscope - INFO - initiate model from location models/iic/nlp_structbert_sentiment-classification_chinese-large.\n",
      "2024-05-11 10:04:13,184 - modelscope - INFO - initialize model from models/iic/nlp_structbert_sentiment-classification_chinese-large\n",
      "2024-05-11 10:04:16,533 - modelscope - INFO - head has no _keys_to_ignore_on_load_missing\n",
      "2024-05-11 10:04:17,490 - modelscope - INFO - All model checkpoint weights were used when initializing ModelForTextClassification.\n",
      "\n",
      "2024-05-11 10:04:17,491 - modelscope - INFO - All the weights of ModelForTextClassification were initialized from the model checkpoint If your task is similar to the task the model of the checkpoint was trained on, you can already use ModelForTextClassification for predictions without further training.\n",
      "2024-05-11 10:04:17,496 - modelscope - INFO - The key of sentence1: sentence1, The key of sentence2: None, The key of label: label\n",
      "2024-05-11 10:04:18,313 - modelscope - INFO - The key of sentence1: text, The key of sentence2: None, The key of label: label\n",
      "/data/anaconda3/envs/binjing310/lib/python3.10/site-packages/transformers/modeling_utils.py:1051: FutureWarning: The `device` argument is deprecated and will be removed in v5 of Transformers.\n",
      "  warnings.warn(\n"
     ]
    },
    {
     "data": {
      "text/plain": [
       "{'scores': [0.8987116813659668, 0.10128828138113022], 'labels': ['负面', '正面']}"
      ]
     },
     "execution_count": 1,
     "metadata": {},
     "output_type": "execute_result"
    }
   ],
   "source": [
    "import os\n",
    "os.environ[\"CUDA_VISIBLE_DEVICES\"] = \"1\"\n",
    "from modelscope.pipelines import pipeline\n",
    "from modelscope.utils.constant import Tasks\n",
    "\n",
    "semantic_cls = pipeline(Tasks.text_classification, 'models/iic/nlp_structbert_sentiment-classification_chinese-large')\n",
    "semantic_cls(input='启动的时候很大声音，然后就会听到1.2秒的卡察的声音，类似齿轮摩擦的声音')"
   ]
  },
  {
   "cell_type": "code",
   "execution_count": null,
   "id": "4b7fbbca-cd09-4c29-a526-f32597a8faf7",
   "metadata": {
    "tags": []
   },
   "outputs": [],
   "source": []
  },
  {
   "cell_type": "markdown",
   "id": "5d5ffb49-426e-4b9e-8502-fefe32b4d1e5",
   "metadata": {},
   "source": [
    "### ner"
   ]
  },
  {
   "cell_type": "code",
   "execution_count": 2,
   "id": "90c32b2c-4c96-4653-ad27-949289dd42e4",
   "metadata": {
    "tags": []
   },
   "outputs": [
    {
     "name": "stderr",
     "output_type": "stream",
     "text": [
      "2024-05-11 10:04:20,807 - modelscope - INFO - initiate model from models/iic/nlp_raner_named-entity-recognition_chinese-base-cmeee\n",
      "2024-05-11 10:04:20,808 - modelscope - INFO - initiate model from location models/iic/nlp_raner_named-entity-recognition_chinese-base-cmeee.\n",
      "2024-05-11 10:04:20,809 - modelscope - INFO - initialize model from models/iic/nlp_raner_named-entity-recognition_chinese-base-cmeee\n",
      "2024-05-11 10:04:21,793 - modelscope - INFO - head has no _keys_to_ignore_on_load_missing\n",
      "2024-05-11 10:04:22,108 - modelscope - INFO - All model checkpoint weights were used when initializing ModelForTokenClassificationWithCRF.\n",
      "\n",
      "2024-05-11 10:04:22,109 - modelscope - INFO - All the weights of ModelForTokenClassificationWithCRF were initialized from the model checkpoint If your task is similar to the task the model of the checkpoint was trained on, you can already use ModelForTokenClassificationWithCRF for predictions without further training.\n",
      "2024-05-11 10:04:22,111 - modelscope - WARNING - No preprocessor field found in cfg.\n",
      "2024-05-11 10:04:22,111 - modelscope - WARNING - No val key and type key found in preprocessor domain of configuration.json file.\n",
      "2024-05-11 10:04:22,112 - modelscope - WARNING - Cannot find available config to build preprocessor at mode inference, current config: {'model_dir': 'models/iic/nlp_raner_named-entity-recognition_chinese-base-cmeee'}. trying to build by task and model information.\n",
      "2024-05-11 10:04:22,115 - modelscope - WARNING - No preprocessor field found in cfg.\n",
      "2024-05-11 10:04:22,115 - modelscope - WARNING - No val key and type key found in preprocessor domain of configuration.json file.\n",
      "2024-05-11 10:04:22,116 - modelscope - WARNING - Cannot find available config to build preprocessor at mode inference, current config: {'model_dir': 'models/iic/nlp_raner_named-entity-recognition_chinese-base-cmeee', 'sequence_length': 512}. trying to build by task and model information.\n",
      "2024-05-11 10:04:22,118 - modelscope - WARNING - No preprocessor field found in cfg.\n",
      "2024-05-11 10:04:22,118 - modelscope - WARNING - No val key and type key found in preprocessor domain of configuration.json file.\n",
      "2024-05-11 10:04:22,119 - modelscope - WARNING - Cannot find available config to build preprocessor at mode inference, current config: {'model_dir': 'models/iic/nlp_raner_named-entity-recognition_chinese-base-cmeee', 'sequence_length': 512}. trying to build by task and model information.\n"
     ]
    },
    {
     "name": "stdout",
     "output_type": "stream",
     "text": [
      "{'output': [{'type': 'dis', 'start': 5, 'end': 7, 'prob': 0.4231625, 'span': '甲亢'}, {'type': 'sym', 'start': 19, 'end': 21, 'prob': 0.4759826, 'span': '突眼'}, {'type': 'sym', 'start': 22, 'end': 27, 'prob': 0.3673389, 'span': '甲状腺肿大'}, {'type': 'sym', 'start': 28, 'end': 30, 'prob': 0.48060343, 'span': '烦躁'}, {'type': 'sym', 'start': 31, 'end': 33, 'prob': 0.50233, 'span': '多动'}, {'type': 'sym', 'start': 34, 'end': 38, 'prob': 0.4615253, 'span': '心动过速'}, {'type': 'sym', 'start': 39, 'end': 43, 'prob': 0.46847075, 'span': '呼吸急促'}, {'type': 'sym', 'start': 49, 'end': 53, 'prob': 0.38778505, 'span': '心力衰竭'}, {'type': 'sym', 'start': 54, 'end': 62, 'prob': 0.10656077, 'span': '血T3、T4升高'}, {'type': 'sym', 'start': 63, 'end': 68, 'prob': 0.15343238, 'span': 'TSH下降'}]}\n"
     ]
    }
   ],
   "source": [
    "from modelscope.pipelines import pipeline\n",
    "from modelscope.utils.constant import Tasks\n",
    "\n",
    "ner_pipeline = pipeline(Tasks.named_entity_recognition, 'models/iic/nlp_raner_named-entity-recognition_chinese-base-cmeee')\n",
    "result = ner_pipeline('多数新生儿甲亢在出生时即有症状，表现为突眼、甲状腺肿大、烦躁、多动、心动过速、呼吸急促，严重可出现心力衰竭，血T3、T4升高，TSH下降。')\n",
    "\n",
    "print(result)"
   ]
  },
  {
   "cell_type": "markdown",
   "id": "d9dcf660-6cfc-45db-a441-0c204f04dd6b",
   "metadata": {
    "tags": []
   },
   "source": [
    "### question answ"
   ]
  },
  {
   "cell_type": "code",
   "execution_count": 3,
   "id": "1a091272-0b44-4cfc-bea4-6f600c63f57d",
   "metadata": {
    "tags": []
   },
   "outputs": [
    {
     "name": "stderr",
     "output_type": "stream",
     "text": [
      "2024-05-11 10:04:22,278 - modelscope - INFO - initiate model from models/iic/nlp_structbert_faq-question-answering_chinese-base\n",
      "2024-05-11 10:04:22,279 - modelscope - INFO - initiate model from location models/iic/nlp_structbert_faq-question-answering_chinese-base.\n",
      "2024-05-11 10:04:22,281 - modelscope - INFO - initialize model from models/iic/nlp_structbert_faq-question-answering_chinese-base\n",
      "/data/anaconda3/envs/binjing310/lib/python3.10/site-packages/torch/nn/utils/weight_norm.py:28: UserWarning: torch.nn.utils.weight_norm is deprecated in favor of torch.nn.utils.parametrizations.weight_norm.\n",
      "  warnings.warn(\"torch.nn.utils.weight_norm is deprecated in favor of torch.nn.utils.parametrizations.weight_norm.\")\n",
      "2024-05-11 10:04:23,270 - modelscope - INFO - faq task build protonet network\n",
      "2024-05-11 10:04:23,507 - modelscope - INFO - All model checkpoint weights were used when initializing SbertForFaqQuestionAnswering.\n",
      "\n",
      "2024-05-11 10:04:23,509 - modelscope - INFO - All the weights of SbertForFaqQuestionAnswering were initialized from the model checkpoint If your task is similar to the task the model of the checkpoint was trained on, you can already use SbertForFaqQuestionAnswering for predictions without further training.\n",
      "2024-05-11 10:04:23,516 - modelscope - WARNING - No val key and type key found in preprocessor domain of configuration.json file.\n",
      "2024-05-11 10:04:23,517 - modelscope - WARNING - Cannot find available config to build preprocessor at mode inference, current config: {'max_seq_length': 50, 'model_dir': 'models/iic/nlp_structbert_faq-question-answering_chinese-base'}. trying to build by task and model information.\n",
      "2024-05-11 10:04:23,642 - modelscope - WARNING - No val key and type key found in preprocessor domain of configuration.json file.\n",
      "2024-05-11 10:04:23,643 - modelscope - WARNING - Cannot find available config to build preprocessor at mode inference, current config: {'max_seq_length': 50, 'model_dir': 'models/iic/nlp_structbert_faq-question-answering_chinese-base'}. trying to build by task and model information.\n"
     ]
    },
    {
     "name": "stdout",
     "output_type": "stream",
     "text": [
      "{'output': [[{'label': '2931733', 'score': 0.9942756295204163}, {'label': '3626004', 'score': 0.037951499223709106}, {'label': '6344909', 'score': 2.2825132006687454e-08}], [{'label': '3626004', 'score': 0.9106820225715637}, {'label': '2931733', 'score': 0.0005046314909122884}, {'label': '6344909', 'score': 2.759103608696023e-06}], [{'label': '6344909', 'score': 0.14666181802749634}, {'label': '3626004', 'score': 9.72883717622608e-05}, {'label': '2931733', 'score': 4.721635559690185e-05}]]}\n"
     ]
    }
   ],
   "source": [
    "from modelscope.pipelines import pipeline\n",
    "from modelscope.utils.constant import Tasks\n",
    "\n",
    "# query_set: query\n",
    "# support_set: faq候选列表，一般实际应用场景中通过检索得到\n",
    "pipeline = pipeline(Tasks.faq_question_answering, 'models/iic/nlp_structbert_faq-question-answering_chinese-base')\n",
    "outputs = pipeline({\"query_set\": [\"如何使用优惠券\", \"在哪里领券\", \"购物评级怎么看\"],\n",
    "                   \"support_set\": [{\"text\": \"卖品代金券怎么用\", \"label\": \"2931733\"}, \n",
    "                                   {\"text\": \"怎么使用优惠券\", \"label\": \"2931733\"}, \n",
    "                                   {\"text\": \"这个可以一起领吗\", \"label\": \"3626004\"}, \n",
    "                                   {\"text\": \"付款时送的优惠券哪里领\", \"label\": \"3626004\"}, \n",
    "                                   {\"text\": \"购物等级怎么长\", \"label\": \"6344909\"}, \n",
    "                                   {\"text\": \"购物等级二心\", \"label\": \"6344909\"}]})\n",
    "print(outputs)"
   ]
  },
  {
   "cell_type": "markdown",
   "id": "e8119ab6-d961-410d-9919-104d85af5844",
   "metadata": {},
   "source": [
    "### summarization"
   ]
  },
  {
   "cell_type": "code",
   "execution_count": 4,
   "id": "beb36cdf-db23-4503-8635-e9bab1899d34",
   "metadata": {
    "tags": []
   },
   "outputs": [
    {
     "name": "stderr",
     "output_type": "stream",
     "text": [
      "2024-05-11 10:04:23,741 - modelscope - INFO - initiate model from models/iic/nlp_ponet_extractive-summarization_topic-level_chinese-base\n",
      "2024-05-11 10:04:23,742 - modelscope - INFO - initiate model from location models/iic/nlp_ponet_extractive-summarization_topic-level_chinese-base.\n",
      "2024-05-11 10:04:23,744 - modelscope - INFO - initialize model from models/iic/nlp_ponet_extractive-summarization_topic-level_chinese-base\n",
      "You are using a model of type bert to instantiate a model of type ponet. This is not supported for all configurations of models and can yield errors.\n",
      "/data/anaconda3/envs/binjing310/lib/python3.10/site-packages/transformers/configuration_utils.py:363: UserWarning: Passing `gradient_checkpointing` to a config initialization is deprecated and will be removed in v5 Transformers. Using `model.gradient_checkpointing_enable()` instead, or if you are using the `Trainer` API, pass `gradient_checkpointing=True` in your `TrainingArguments`.\n",
      "  warnings.warn(\n",
      "2024-05-11 10:04:24,961 - modelscope - WARNING - No preprocessor field found in cfg.\n",
      "2024-05-11 10:04:24,962 - modelscope - WARNING - No val key and type key found in preprocessor domain of configuration.json file.\n",
      "2024-05-11 10:04:24,963 - modelscope - WARNING - Cannot find available config to build preprocessor at mode inference, current config: {'model_dir': 'models/iic/nlp_ponet_extractive-summarization_topic-level_chinese-base'}. trying to build by task and model information.\n",
      "2024-05-11 10:04:24,964 - modelscope - WARNING - No preprocessor key ('ponet-for-document-segmentation', 'extractive-summarization') found in PREPROCESSOR_MAP, skip building preprocessor.\n"
     ]
    },
    {
     "name": "stdout",
     "output_type": "stream",
     "text": [
      "模型输入为Fbank特征，输出为基于char建模的中文全集token预测，           测试工具根据每一帧的预测数据进行后处理得到输入音频的实时检测结果。\n",
      "模型训练采用“basetrain + finetune”的模式，basetrain过程使用大量内部移动端数据，           在此基础上，使用1万条设备端录制安静场景“小云小云”数据进行微调，得到最终面向业务的模型。\n"
     ]
    }
   ],
   "source": [
    "from modelscope.outputs import OutputKeys\n",
    "from modelscope.pipelines import pipeline\n",
    "from modelscope.utils.constant import Tasks\n",
    "\n",
    "p = pipeline(\n",
    "    task=Tasks.extractive_summarization,\n",
    "    model='models/iic/nlp_ponet_extractive-summarization_topic-level_chinese-base')\n",
    "\n",
    "result = p(documents='移动端语音唤醒模型，检测关键词为“小云小云”。模型主体为4层FSMN结构，\\\n",
    "           使用CTC训练准则，参数量750K，适用于移动端设备运行。模型输入为Fbank特征，输出为基于char建模的中文全集token预测，\\\n",
    "           测试工具根据每一帧的预测数据进行后处理得到输入音频的实时检测结果。模型训练采用“basetrain + finetune”的模式，basetrain过程使用大量内部移动端数据，\\\n",
    "           在此基础上，使用1万条设备端录制安静场景“小云小云”数据进行微调，得到最终面向业务的模型。后续用户可在basetrain模型基础上，\\\n",
    "           使用其他关键词数据进行微调，得到新的语音唤醒模型，但暂时未开放模型finetune功能。')\n",
    "\n",
    "print(result[OutputKeys.TEXT])"
   ]
  },
  {
   "cell_type": "code",
   "execution_count": null,
   "id": "abf66abb-8d84-47c2-9df3-c8389e57f7a4",
   "metadata": {},
   "outputs": [],
   "source": []
  },
  {
   "cell_type": "code",
   "execution_count": null,
   "id": "ea72372b-1998-40b3-bbce-d2733d04ef27",
   "metadata": {},
   "outputs": [],
   "source": []
  },
  {
   "cell_type": "markdown",
   "id": "0b8470dc-fbf5-45b2-9cdc-4df580e9f2ef",
   "metadata": {},
   "source": [
    "### ASR"
   ]
  },
  {
   "cell_type": "code",
   "execution_count": 5,
   "id": "a97ee999-b5b9-451d-8816-e6581bf1ab01",
   "metadata": {},
   "outputs": [],
   "source": [
    "from transformers import pipeline\n",
    "\n",
    "# 使用 `model` 参数指定模型\n",
    "transcriber = pipeline(task=\"automatic-speech-recognition\", model=\"models/whisper-large-v2\")"
   ]
  },
  {
   "cell_type": "code",
   "execution_count": 6,
   "id": "4638343c-1ab3-4811-bc8f-e1613c04f397",
   "metadata": {},
   "outputs": [],
   "source": [
    "text = transcriber(\"data/audio/mlk.flac\")\n",
    "text"
   ]
  },
  {
   "cell_type": "code",
   "execution_count": null,
   "id": "5324bfc6-c37c-4b57-9e2e-0e58f171fea3",
   "metadata": {},
   "outputs": [],
   "source": []
  },
  {
   "cell_type": "markdown",
   "id": "b9ba6f28-4143-4817-8189-2467841e41ca",
   "metadata": {},
   "source": [
    "### image-classification"
   ]
  },
  {
   "cell_type": "markdown",
   "id": "1042fa94-9a6b-4e2f-9e65-73f2071ee208",
   "metadata": {
    "tags": []
   },
   "source": [
    "![](http://xingchen-data.oss-cn-zhangjiakou.aliyuncs.com/maas/image-classification/image_classification.png)"
   ]
  },
  {
   "cell_type": "code",
   "execution_count": 7,
   "id": "c7f711d8-bbca-404e-be31-8ac5366b261e",
   "metadata": {
    "tags": []
   },
   "outputs": [
    {
     "name": "stdout",
     "output_type": "stream",
     "text": [
      "forklift\n"
     ]
    }
   ],
   "source": [
    "from modelscope.pipelines import pipeline\n",
    "from modelscope.utils.constant import Tasks\n",
    "from modelscope.outputs import OutputKeys\n",
    "\n",
    "ofa_pipe = pipeline(Tasks.image_classification,model='models/iic/ofa_image-classification_imagenet_large_en')\n",
    "result = ofa_pipe('http://xingchen-data.oss-cn-zhangjiakou.aliyuncs.com/maas/image-classification/image_classification.png')\n",
    "print(result[OutputKeys.LABELS]) # 'forklift'\n",
    "\n"
   ]
  },
  {
   "cell_type": "markdown",
   "id": "5155b71e-554c-4c82-ba4a-46e5b1ea0b4a",
   "metadata": {},
   "source": [
    "### object-detection"
   ]
  },
  {
   "cell_type": "markdown",
   "id": "ac765347-e1af-4db8-a913-f37342719298",
   "metadata": {},
   "source": [
    "![](https://modelscope.oss-cn-beijing.aliyuncs.com/test/images/image_detection.jpg)"
   ]
  },
  {
   "cell_type": "code",
   "execution_count": 8,
   "id": "d4a42164-1f78-439e-a63b-7273c730c584",
   "metadata": {
    "tags": []
   },
   "outputs": [
    {
     "name": "stderr",
     "output_type": "stream",
     "text": [
      "2024-05-11 10:04:26,298 - modelscope - INFO - initiate model from models/iic/cv_tinynas_object-detection_damoyolo\n",
      "2024-05-11 10:04:26,300 - modelscope - INFO - initiate model from location models/iic/cv_tinynas_object-detection_damoyolo.\n",
      "2024-05-11 10:04:26,303 - modelscope - INFO - initialize model from models/iic/cv_tinynas_object-detection_damoyolo\n",
      "2024-05-11 10:04:27,192 - modelscope - WARNING - No val key and type key found in preprocessor domain of configuration.json file.\n",
      "2024-05-11 10:04:27,193 - modelscope - WARNING - Cannot find available config to build preprocessor at mode inference, current config: {'train': {'mosaic_mixup': {'mosaic_prob': 1.0, 'mosaic_scale': [0.1, 2.0], 'mosaic_size': [640, 640], 'mixup_prob': 0.15, 'mixup_scale': [0.5, 1.5], 'degrees': 10.0, 'translate': 0.2, 'shear': 2.0}, 'transform': {'image_mean': [0.0, 0.0, 0.0], 'image_std': [1.0, 1.0, 1.0], 'image_max_range': [640, 640], 'flip_prob': 0.5, 'autoaug_dict': {'box_prob': 0.3, 'num_subpolicies': 5, 'scale_splits': [2048, 10240, 51200], 'autoaug_params': [6, 9, 5, 3, 3, 4, 2, 4, 4, 4, 5, 2, 4, 1, 4, 2, 6, 4, 2, 2, 2, 6, 2, 2, 2, 0, 5, 1, 3, 0, 8, 5, 2, 8, 7, 5, 1, 3, 3, 3]}}}, 'evaluation': {'transform': {'image_mean': [0.0, 0.0, 0.0], 'image_std': [1.0, 1.0, 1.0], 'image_max_range': [640, 640], 'flip_prob': 0.0}}, 'model_dir': 'models/iic/cv_tinynas_object-detection_damoyolo'}. trying to build by task and model information.\n"
     ]
    }
   ],
   "source": [
    "from modelscope.pipelines import pipeline\n",
    "from modelscope.utils.constant import Tasks\n",
    "object_detect = pipeline(Tasks.image_object_detection,model='models/iic/cv_tinynas_object-detection_damoyolo')\n",
    "img_path ='https://modelscope.oss-cn-beijing.aliyuncs.com/test/images/image_detection.jpg'\n",
    "result = object_detect(img_path)"
   ]
  },
  {
   "cell_type": "markdown",
   "id": "256af6e6-f673-49eb-b141-78ab54fe48e4",
   "metadata": {},
   "source": []
  },
  {
   "cell_type": "code",
   "execution_count": null,
   "id": "69673e04-9fa4-4849-9714-e0782f34d466",
   "metadata": {},
   "outputs": [],
   "source": []
  },
  {
   "cell_type": "code",
   "execution_count": null,
   "id": "44d5d66c-3adf-4eff-ba1d-5d9ea19c0001",
   "metadata": {},
   "outputs": [],
   "source": []
  }
 ],
 "metadata": {
  "kernelspec": {
   "display_name": "Python 3 (ipykernel)",
   "language": "python",
   "name": "python3"
  },
  "language_info": {
   "codemirror_mode": {
    "name": "ipython",
    "version": 3
   },
   "file_extension": ".py",
   "mimetype": "text/x-python",
   "name": "python",
   "nbconvert_exporter": "python",
   "pygments_lexer": "ipython3",
   "version": "3.10.13"
  }
 },
 "nbformat": 4,
 "nbformat_minor": 5
}
